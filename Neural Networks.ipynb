{
 "cells": [
  {
   "cell_type": "code",
   "execution_count": 297,
   "id": "677f8e23",
   "metadata": {},
   "outputs": [],
   "source": [
    "import numpy as np"
   ]
  },
  {
   "cell_type": "code",
   "execution_count": 389,
   "id": "e39adc8d",
   "metadata": {},
   "outputs": [],
   "source": [
    "input_layer=np.random.rand(3)\n",
    "weights1=np.random.rand(5,3)*5\n",
    "biases1=-np.random.rand(1,5)"
   ]
  },
  {
   "cell_type": "code",
   "execution_count": 390,
   "id": "b25f8b8d",
   "metadata": {},
   "outputs": [],
   "source": [
    "y=np.array([[1,1]])"
   ]
  },
  {
   "cell_type": "code",
   "execution_count": 391,
   "id": "e1c4aee6",
   "metadata": {},
   "outputs": [
    {
     "data": {
      "text/plain": [
       "array([0.74063866, 0.70259624, 0.277349  ])"
      ]
     },
     "execution_count": 391,
     "metadata": {},
     "output_type": "execute_result"
    }
   ],
   "source": [
    "input_layer"
   ]
  },
  {
   "cell_type": "code",
   "execution_count": 392,
   "id": "88bee0b0",
   "metadata": {},
   "outputs": [
    {
     "data": {
      "text/plain": [
       "array([[3.00939879, 0.99912509, 0.91893201],\n",
       "       [2.66052836, 0.89849581, 3.24352813],\n",
       "       [1.98086943, 2.23253007, 2.32733074],\n",
       "       [4.94078124, 1.42145758, 4.25331565],\n",
       "       [1.39472594, 3.88714672, 4.01381688]])"
      ]
     },
     "execution_count": 392,
     "metadata": {},
     "output_type": "execute_result"
    }
   ],
   "source": [
    "weights1"
   ]
  },
  {
   "cell_type": "code",
   "execution_count": 393,
   "id": "239b0664",
   "metadata": {},
   "outputs": [
    {
     "data": {
      "text/plain": [
       "array([[-0.76337302, -0.89683856, -0.56768175, -0.90478   , -0.22272118]])"
      ]
     },
     "execution_count": 393,
     "metadata": {},
     "output_type": "execute_result"
    }
   ],
   "source": [
    "biases1"
   ]
  },
  {
   "cell_type": "code",
   "execution_count": 394,
   "id": "7ddfa5db",
   "metadata": {},
   "outputs": [],
   "source": [
    "M=np.dot(weights1,input_layer)+biases"
   ]
  },
  {
   "cell_type": "code",
   "execution_count": 395,
   "id": "c0c8e323",
   "metadata": {},
   "outputs": [
    {
     "data": {
      "text/plain": [
       "array([[2.52085109, 2.94703026, 3.36137707, 5.6419227 , 3.98758391]])"
      ]
     },
     "execution_count": 395,
     "metadata": {},
     "output_type": "execute_result"
    }
   ],
   "source": [
    "M"
   ]
  },
  {
   "cell_type": "code",
   "execution_count": 396,
   "id": "9be5d946",
   "metadata": {},
   "outputs": [],
   "source": [
    "#forward propogation\n",
    "def forward_prop(M):\n",
    "    hiddenlayer=1/(1+np.exp(-M))\n",
    "    return hiddenlayer"
   ]
  },
  {
   "cell_type": "code",
   "execution_count": 397,
   "id": "62d92358",
   "metadata": {},
   "outputs": [],
   "source": [
    "hiddenlayer=forward_prop(M)"
   ]
  },
  {
   "cell_type": "code",
   "execution_count": 398,
   "id": "1fb604c1",
   "metadata": {},
   "outputs": [
    {
     "data": {
      "text/plain": [
       "array([[0.92559069, 0.95012294, 0.96647542, 0.99646649, 0.98179317]])"
      ]
     },
     "execution_count": 398,
     "metadata": {},
     "output_type": "execute_result"
    }
   ],
   "source": [
    "hiddenlayer"
   ]
  },
  {
   "cell_type": "code",
   "execution_count": 399,
   "id": "afac3623",
   "metadata": {},
   "outputs": [],
   "source": [
    "weights2=np.random.rand(5,2)\n",
    "Biases2=np.random.rand(2)"
   ]
  },
  {
   "cell_type": "code",
   "execution_count": 400,
   "id": "26c919f3",
   "metadata": {},
   "outputs": [
    {
     "data": {
      "text/plain": [
       "array([[0.52750476, 0.33927886],\n",
       "       [0.02511869, 0.71014196],\n",
       "       [0.89659241, 0.58766732],\n",
       "       [0.1693411 , 0.06384927],\n",
       "       [0.38580153, 0.60792493]])"
      ]
     },
     "execution_count": 400,
     "metadata": {},
     "output_type": "execute_result"
    }
   ],
   "source": [
    "weights2"
   ]
  },
  {
   "cell_type": "code",
   "execution_count": 401,
   "id": "a944eef6",
   "metadata": {},
   "outputs": [
    {
     "data": {
      "text/plain": [
       "array([0.35201615, 0.46255553])"
      ]
     },
     "execution_count": 401,
     "metadata": {},
     "output_type": "execute_result"
    }
   ],
   "source": [
    "Biases2"
   ]
  },
  {
   "cell_type": "code",
   "execution_count": 402,
   "id": "9e072ad9",
   "metadata": {},
   "outputs": [],
   "source": [
    "#let's take output layer inputs as P\n",
    "P=np.dot(hiddenlayer,weights2)"
   ]
  },
  {
   "cell_type": "code",
   "execution_count": 403,
   "id": "c00fafac",
   "metadata": {},
   "outputs": [
    {
     "data": {
      "text/plain": [
       "array([[1.92617391, 2.21720175]])"
      ]
     },
     "execution_count": 403,
     "metadata": {},
     "output_type": "execute_result"
    }
   ],
   "source": [
    "P"
   ]
  },
  {
   "cell_type": "code",
   "execution_count": 404,
   "id": "b822a103",
   "metadata": {},
   "outputs": [],
   "source": [
    "outputlayer_outputs=forward_prop(P)"
   ]
  },
  {
   "cell_type": "code",
   "execution_count": 405,
   "id": "98e0079f",
   "metadata": {},
   "outputs": [
    {
     "data": {
      "text/plain": [
       "array([[0.87282532, 0.90178363]])"
      ]
     },
     "execution_count": 405,
     "metadata": {},
     "output_type": "execute_result"
    }
   ],
   "source": [
    "outputlayer_outputs"
   ]
  },
  {
   "cell_type": "code",
   "execution_count": 406,
   "id": "fdd748e2",
   "metadata": {},
   "outputs": [
    {
     "data": {
      "text/plain": [
       "0.025819852828049036"
      ]
     },
     "execution_count": 406,
     "metadata": {},
     "output_type": "execute_result"
    }
   ],
   "source": [
    "mse=((outputlayer_outputs-y)**2).sum()/2*2\n",
    "mse"
   ]
  },
  {
   "cell_type": "code",
   "execution_count": 415,
   "id": "2cb277f7",
   "metadata": {},
   "outputs": [],
   "source": [
    "learning_rate=0.1\n",
    "epochs=10000"
   ]
  },
  {
   "cell_type": "code",
   "execution_count": 416,
   "id": "84c00b91",
   "metadata": {},
   "outputs": [],
   "source": [
    "#backpropogation\n",
    "#I did it using only numpy\n",
    "for epoch in  range(epochs) :\n",
    "    outputlayer_error=outputlayer_outputs-y\n",
    "    outputlayer_delta=outputlayer_error*outputlayer_outputs*(1-outputlayer_outputs)\n",
    "\n",
    "    #weight update\n",
    "    weights2_update=np.dot(hiddenlayer.T,outputlayer_delta)/2\n",
    "    weights2=weights2-learning_rate*weights2_update"
   ]
  },
  {
   "cell_type": "code",
   "execution_count": 417,
   "id": "aea25205",
   "metadata": {},
   "outputs": [],
   "source": [
    "P=np.dot(hiddenlayer,weights2)\n",
    "outputlayer_outputs=forward_prop(P)"
   ]
  },
  {
   "cell_type": "code",
   "execution_count": 419,
   "id": "f8294b08",
   "metadata": {},
   "outputs": [
    {
     "data": {
      "text/plain": [
       "0.00010539300126413979"
      ]
     },
     "execution_count": 419,
     "metadata": {},
     "output_type": "execute_result"
    }
   ],
   "source": [
    "mse=((outputlayer_outputs-y)**2).sum()/2*2\n",
    "mse"
   ]
  },
  {
   "cell_type": "markdown",
   "id": "621ee988",
   "metadata": {},
   "source": [
    "#error is reduced from original 0.0258 to 0.000105"
   ]
  }
 ],
 "metadata": {
  "kernelspec": {
   "display_name": "Python 3 (ipykernel)",
   "language": "python",
   "name": "python3"
  },
  "language_info": {
   "codemirror_mode": {
    "name": "ipython",
    "version": 3
   },
   "file_extension": ".py",
   "mimetype": "text/x-python",
   "name": "python",
   "nbconvert_exporter": "python",
   "pygments_lexer": "ipython3",
   "version": "3.9.7"
  }
 },
 "nbformat": 4,
 "nbformat_minor": 5
}
